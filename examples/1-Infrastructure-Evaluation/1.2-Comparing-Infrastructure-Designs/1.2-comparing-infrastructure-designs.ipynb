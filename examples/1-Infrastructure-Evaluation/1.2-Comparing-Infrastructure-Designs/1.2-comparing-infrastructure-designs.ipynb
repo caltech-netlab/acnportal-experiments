{
  "cells": [
    {
      "cell_type": "markdown",
      "metadata": {
        "id": "naZreI27l046"
      },
      "source": [
        "*If running in Colab run this first to install ACN-Portal.*"
      ]
    },
    {
      "cell_type": "code",
      "execution_count": null,
      "metadata": {
        "jupyter": {
          "outputs_hidden": false
        },
        "pycharm": {
          "name": "#%%\n"
        },
        "id": "q5kTXZ1Il048"
      },
      "outputs": [],
      "source": [
        "import subprocess\n",
        "import sys\n",
        "\n",
        "if 'google.colab' in str(get_ipython()):\n",
        "    print('Running on CoLab')\n",
        "    subprocess.check_call([sys.executable, \"-m\", \"pip\", \"install\", \"acnportal\"])\n",
        "    subprocess.check_call([sys.executable, \"-m\", \"pip\", \"install\", \"git+https://github.com/caltech-netlab/adacharge\"])"
      ]
    },
    {
      "cell_type": "code",
      "execution_count": null,
      "metadata": {
        "jupyter": {
          "outputs_hidden": false
        },
        "pycharm": {
          "name": "#%%\n"
        },
        "id": "r79Ev0jil049"
      },
      "outputs": [],
      "source": [
        "import os\n",
        "import subprocess\n",
        "\n",
        "\n",
        "if not os.path.exists(\"data/jpl_weekday_40_updated.pkl\"):\n",
        "    if not os.path.exists(\"data\"):\n",
        "        subprocess.run([\"mkdir\", \"data\"])\n",
        "    subprocess.run([\"wget\", \"-P\", \"./data\", \"https://ev.caltech.edu/assets/data/gmm/jpl_weekday_40_updated.pkl\"])"
      ]
    },
    {
      "cell_type": "markdown",
      "metadata": {
        "id": "y1auAmqNl049"
      },
      "source": [
        "\n",
        "# Comparing Infrastructure Designs using ACN-Sim\n",
        "### by Zachary Lee\n",
        "#### Last updated: 4/16/2020\n",
        "\n",
        "\n",
        "In this case study, we demonstrate how ACN-Data and ACN-Sim can be used to evaluate infrastructure configurations and algorithms. We consider the case of a site host who expects to charge approximately 100 EVs per day with a demand pattern similar to that of JPL.\n",
        "\n",
        "The site host has several options, including\n",
        "*   102 Uncontrolled Level-1 EVSEs with a 200 kW Transformer\n",
        "*   30 Uncontrolled Level-2 EVSEs with a 200 kW Transformer\n",
        "*   102 Uncontrolled Level-2 EVSEs with a 670 kW Transformer\n",
        "*   102 Smart Level-2 EVSEs running LLF with a 200 kW Transformer\n",
        "\n",
        "We evaluate the scenarios on the number of times drivers would have to swap parking places to allow other drivers to charge, the percentage of total demand met, and the operating costs (calculated using ACN-Sim's integration with utility tariffs). This demonstrates the significant benefits of developing smart EV charging systems in terms of reducing both capital costs (transformer capacity) and operating costs.\n"
      ]
    },
    {
      "cell_type": "code",
      "execution_count": 13,
      "metadata": {
        "jupyter": {
          "outputs_hidden": false
        },
        "pycharm": {
          "name": "#%%\n"
        },
        "id": "YqZgS3HIl049"
      },
      "outputs": [],
      "source": [
        "import acnportal\n",
        "\n",
        "from copy import deepcopy\n",
        "import warnings\n",
        "import pytz\n",
        "import numpy as np\n",
        "import pandas as pd\n",
        "import pickle\n",
        "from datetime import datetime\n",
        "from acnportal import acnsim\n",
        "from acnportal import algorithms\n",
        "from acnportal.signals.tariffs.tou_tariff import TimeOfUseTariff\n",
        "from acnportal.acnsim.events import GaussianMixtureEvents\n",
        "from acnportal.contrib.acnsim import StochasticNetwork\n",
        "import adacharge"
      ]
    },
    {
      "cell_type": "markdown",
      "metadata": {
        "id": "UOGcaUfsl04-"
      },
      "source": [
        "## Charging Network Designs\n",
        "\n",
        "To define our charging network options, we will use two functions which generate a StochasticNetwork object. The StochasticNetwork assigns users to spaces dynamically based on available spaces. In this example, we will assume each driver has equal preference for all spots.\n",
        "\n",
        "If all spaces are taken, drivers join a queue which is drained as drivers finish charging and move their vehicle (the early departure option specifies that drivers move their vehicle when it is done charging rather than their normal departure time). We record each time that the user leave and is replaced with someone from the queue as a swap. Swaps are undesirable as they waste time and are frustrating for users. Despite this, swapping is a common practice in many charging facilities where the number of users exceeds the number of EVSEs."
      ]
    },
    {
      "cell_type": "code",
      "execution_count": 14,
      "metadata": {
        "jupyter": {
          "outputs_hidden": false
        },
        "pycharm": {
          "name": "#%%\n"
        },
        "id": "uRGpqocMl04-"
      },
      "outputs": [],
      "source": [
        "def level_1_network(transformer_cap=200, evse_per_phase=34):\n",
        "    \"\"\" Configurable charging network for level-1 EVSEs connected line to ground\n",
        "        at 120 V.\n",
        "\n",
        "    Args:\n",
        "        transformer_cap (float): Capacity of the transformer feeding the network\n",
        "          [kW]\n",
        "        evse_per_phase (int): Number of EVSEs on each phase. Total number of\n",
        "          EVSEs will be 3 * evse_per_phase.\n",
        "\n",
        "    Returns:\n",
        "        ChargingNetwork: Configured ChargingNetwork.\n",
        "    \"\"\"\n",
        "    network = StochasticNetwork(early_departure=True)\n",
        "    voltage = 120\n",
        "\n",
        "    # Define the sets of EVSEs in the Caltech ACN.\n",
        "    A_ids = ['A-{0}'.format(i) for i in range(evse_per_phase)]\n",
        "    B_ids = ['B-{0}'.format(i) for i in range(evse_per_phase)]\n",
        "    C_ids = ['C-{0}'.format(i) for i in range(evse_per_phase)]\n",
        "\n",
        "    # Add Caltech EVSEs\n",
        "    for evse_id in A_ids:\n",
        "        network.register_evse(acnsim.FiniteRatesEVSE(evse_id, [0, 16]), voltage, 0)\n",
        "    for evse_id in B_ids:\n",
        "        network.register_evse(acnsim.FiniteRatesEVSE(evse_id, [0, 16]), voltage, 120)\n",
        "    for evse_id in C_ids:\n",
        "        network.register_evse(acnsim.FiniteRatesEVSE(evse_id, [0, 16]), voltage, -120)\n",
        "\n",
        "    # Add Caltech Constraint Set\n",
        "    I3a = acnsim.Current(A_ids)\n",
        "    I3b = acnsim.Current(B_ids)\n",
        "    I3c = acnsim.Current(C_ids)\n",
        "\n",
        "    # Define intermediate currents\n",
        "    I2a = (1 / 4) * (I3a - I3c)\n",
        "    I2b = (1 / 4) * (I3b - I3a)\n",
        "    I2c = (1 / 4) * (I3c - I3b)\n",
        "\n",
        "    # Build constraint set\n",
        "    primary_side_constr = transformer_cap * 1000 / 3 / 277\n",
        "    secondary_side_constr = transformer_cap * 1000 / 3 / 120\n",
        "    network.add_constraint(I3a, secondary_side_constr, name='Secondary A')\n",
        "    network.add_constraint(I3b, secondary_side_constr, name='Secondary B')\n",
        "    network.add_constraint(I3c, secondary_side_constr, name='Secondary C')\n",
        "    network.add_constraint(I2a, primary_side_constr, name='Primary A')\n",
        "    network.add_constraint(I2b, primary_side_constr, name='Primary B')\n",
        "    network.add_constraint(I2c, primary_side_constr, name='Primary C')\n",
        "\n",
        "    return network\n",
        "\n",
        "\n",
        "def level_2_network(transformer_cap=200, evse_per_phase=34):\n",
        "    \"\"\" Configurable charging network for level-2 EVSEs connected line to line\n",
        "        at 208 V.\n",
        "\n",
        "    Args:\n",
        "        transformer_cap (float): Capacity of the transformer feeding the network\n",
        "          [kW]\n",
        "        evse_per_phase (int): Number of EVSEs on each phase. Total number of\n",
        "          EVSEs will be 3 * evse_per_phase.\n",
        "\n",
        "    Returns:\n",
        "        ChargingNetwork: Configured ChargingNetwork.\n",
        "    \"\"\"\n",
        "    network = StochasticNetwork(early_departure=True)\n",
        "    voltage = 208\n",
        "    evse_type = 'AeroVironment'\n",
        "\n",
        "    # Define the sets of EVSEs in the Caltech ACN.\n",
        "    AB_ids = ['AB-{0}'.format(i) for i in range(evse_per_phase)]\n",
        "    BC_ids = ['BC-{0}'.format(i) for i in range(evse_per_phase)]\n",
        "    CA_ids = ['CA-{0}'.format(i) for i in range(evse_per_phase)]\n",
        "\n",
        "    # Add Caltech EVSEs\n",
        "    for evse_id in AB_ids:\n",
        "        network.register_evse(acnsim.get_evse_by_type(evse_id, evse_type), voltage, 30)\n",
        "    for evse_id in BC_ids:\n",
        "        network.register_evse(acnsim.get_evse_by_type(evse_id, evse_type), voltage, -90)\n",
        "    for evse_id in CA_ids:\n",
        "        network.register_evse(acnsim.get_evse_by_type(evse_id, evse_type), voltage, 150)\n",
        "\n",
        "    # Add Caltech Constraint Set\n",
        "    AB = acnsim.Current(AB_ids)\n",
        "    BC = acnsim.Current(BC_ids)\n",
        "    CA = acnsim.Current(CA_ids)\n",
        "\n",
        "    # Define intermediate currents\n",
        "    I3a = AB - CA\n",
        "    I3b = BC - AB\n",
        "    I3c = CA - BC\n",
        "    I2a = (1 / 4) * (I3a - I3c)\n",
        "    I2b = (1 / 4) * (I3b - I3a)\n",
        "    I2c = (1 / 4) * (I3c - I3b)\n",
        "\n",
        "    # Build constraint set\n",
        "    primary_side_constr = transformer_cap * 1000 / 3 / 277\n",
        "    secondary_side_constr = transformer_cap * 1000 / 3 / 120\n",
        "    network.add_constraint(I3a, secondary_side_constr, name='Secondary A')\n",
        "    network.add_constraint(I3b, secondary_side_constr, name='Secondary B')\n",
        "    network.add_constraint(I3c, secondary_side_constr, name='Secondary C')\n",
        "    network.add_constraint(I2a, primary_side_constr, name='Primary A')\n",
        "    network.add_constraint(I2b, primary_side_constr, name='Primary B')\n",
        "    network.add_constraint(I2c, primary_side_constr, name='Primary C')\n",
        "\n",
        "    return network\n"
      ]
    },
    {
      "cell_type": "markdown",
      "metadata": {
        "id": "Cwq28IL2l04-"
      },
      "source": [
        "## Experiments\n",
        "\n",
        "In these experiments we will run a simulation for each system configuration can compare the results on key metrics."
      ]
    },
    {
      "cell_type": "code",
      "execution_count": 15,
      "metadata": {
        "jupyter": {
          "outputs_hidden": false
        },
        "pycharm": {
          "name": "#%%\n"
        },
        "id": "gNtE4pPtl04_"
      },
      "outputs": [],
      "source": [
        "# How long each time discrete time interval in the simulation should be.\n",
        "PERIOD = 5  # minutes\n",
        "\n",
        "# Voltage of the network.\n",
        "VOLTAGE = 208  # volts\n",
        "\n",
        "# Default maximum charging rate for each EV battery.\n",
        "DEFAULT_BATTERY_POWER = 6.6 # kW"
      ]
    },
    {
      "cell_type": "markdown",
      "metadata": {
        "id": "Vadfn_Ckl04_"
      },
      "source": [
        "**Network Options**\n",
        "\n",
        "We consider five infrastrucuture configurations."
      ]
    },
    {
      "cell_type": "code",
      "execution_count": 16,
      "metadata": {
        "jupyter": {
          "outputs_hidden": false
        },
        "pycharm": {
          "name": "#%%\n"
        },
        "id": "c8qctwCSl04_"
      },
      "outputs": [],
      "source": [
        "# Network of 102 Level-1 EVSEs with a 200 kW Transformer\n",
        "level_1 = level_1_network(transformer_cap=200, evse_per_phase=34)\n",
        "\n",
        "# Network of 30 Level-2 EVSEs with a 200 kW Transformer\n",
        "level_2_200kW_30 = level_2_network(transformer_cap=200, evse_per_phase=10)\n",
        "\n",
        "# Network of 102 Level-2 EVSEs with a 200 kW Transformer\n",
        "level_2_200kW_102 = level_2_network(transformer_cap=200, evse_per_phase=34)\n",
        "\n",
        "# Network of 102 Level-2 EVSEs with a 680 kW Transformer\n",
        "level_2_680kW_102 = level_2_network(transformer_cap=680, evse_per_phase=34)\n",
        "\n",
        "# Network of 201 Level-2 EVSEs with a 200 kW Transformer\n",
        "level_2_200kW_201 = level_2_network(transformer_cap=200, evse_per_phase=67)"
      ]
    },
    {
      "cell_type": "markdown",
      "metadata": {
        "id": "EOBWqEril04_"
      },
      "source": [
        "**Events**\n",
        "\n",
        "We assume that our site will have a usage profile similar to JPL, so we use a Gaussian Mixture Model trained on data from weekdays at JPL to generate events for this experiment. We assume that the site will be closed on weekends, so no charging will occur."
      ]
    },
    {
      "cell_type": "code",
      "execution_count": 18,
      "metadata": {
        "jupyter": {
          "outputs_hidden": false
        },
        "pycharm": {
          "name": "#%%\n"
        },
        "id": "gaBiNaEzl04_"
      },
      "outputs": [],
      "source": [
        "def get_synth_events(sessions_per_day):\n",
        "    gmm = CustomUnpicklerJPLdata(open('./data/jpl_weekday_40_updated.pkl', \"rb\")).load()\n",
        "\n",
        "\n",
        "    # Generate a list of the number of sessions to draw for each day.\n",
        "    # This generates 30 days of charging demands.\n",
        "    num_evs = [0]*2 + [sessions_per_day]*5 + [0]*2 + [sessions_per_day]*5 + [0]*2 + \\\n",
        "              [sessions_per_day]*5 + [0]*2 + [sessions_per_day]*5 + [0]*2\n",
        "\n",
        "    # Note that because we are drawing from a distribution, some sessions will be\n",
        "    # invalid, we ignore these sessions and remove the corresponding plugin events.\n",
        "    gen = GaussianMixtureEvents(pretrained_model=gmm, duration_min=0.08334)\n",
        "\n",
        "    synth_events = gen.generate_events(num_evs, PERIOD, VOLTAGE, DEFAULT_BATTERY_POWER)\n",
        "    return synth_events\n"
      ]
    },
    {
      "cell_type": "code",
      "execution_count": 19,
      "metadata": {
        "jupyter": {
          "outputs_hidden": false
        },
        "pycharm": {
          "name": "#%%\n"
        },
        "id": "qfoprx7nl05A"
      },
      "outputs": [],
      "source": [
        "# Events with 100 EVs per weekday\n",
        "sessions_100 = get_synth_events(100)"
      ]
    },
    {
      "cell_type": "code",
      "execution_count": 20,
      "metadata": {
        "jupyter": {
          "outputs_hidden": false
        },
        "pycharm": {
          "name": "#%%\n"
        },
        "id": "ArjdWwwGl05A"
      },
      "outputs": [],
      "source": [
        "# Events with 200 EVs per weekday\n",
        "sessions_200 = get_synth_events(200)"
      ]
    },
    {
      "cell_type": "code",
      "execution_count": 21,
      "metadata": {
        "jupyter": {
          "outputs_hidden": false
        },
        "pycharm": {
          "name": "#%%\n"
        },
        "id": "RvaBgAxEl05A"
      },
      "outputs": [],
      "source": [
        "def run_experiment(network, algorithm, events):\n",
        "    \"\"\" Run simulation for the events defined previously and the specified\n",
        "        network / algorithm / events.\n",
        "    \"\"\"\n",
        "    # Timezone of the ACN we are using.\n",
        "    timezone = pytz.timezone('America/Los_Angeles')\n",
        "\n",
        "    # Start and End times are used when collecting data.\n",
        "    start = timezone.localize(datetime(2019, 6, 1))\n",
        "    end = timezone.localize(datetime(2019, 7, 1))\n",
        "\n",
        "    sch = deepcopy(algorithm)\n",
        "    cn = deepcopy(network)\n",
        "    signals = {'tariff': TimeOfUseTariff('sce_tou_ev_4_march_2019')}\n",
        "\n",
        "    sim = acnsim.Simulator(cn, sch, events, start, period=PERIOD, verbose=False, signals=signals)\n",
        "    with warnings.catch_warnings():\n",
        "        warnings.simplefilter(\"ignore\")\n",
        "    sim.run()\n",
        "\n",
        "    r = {'proportion_of_energy_delivered': acnsim.proportion_of_energy_delivered(sim),\n",
        "         'energy_delivered': sum(ev.energy_delivered for ev in sim.ev_history.values()),\n",
        "         'num_swaps': cn.swaps,\n",
        "         'num_never_charged': cn.never_charged,\n",
        "         'energy_cost': acnsim.energy_cost(sim),\n",
        "         'demand_charge': acnsim.demand_charge(sim)\n",
        "         }\n",
        "    r['total_cost'] = r['energy_cost'] + r['demand_charge']\n",
        "    r['$/kWh'] = r['total_cost'] / r['energy_delivered']\n",
        "    return r"
      ]
    },
    {
      "cell_type": "markdown",
      "metadata": {
        "id": "XB4IGyDZl05B"
      },
      "source": [
        "**Define Algorithms**\n",
        "\n",
        "We consider Uncontrolled, Least-Laxity First and Model Predictive Control (cost-minimization)."
      ]
    },
    {
      "cell_type": "code",
      "execution_count": 22,
      "metadata": {
        "jupyter": {
          "outputs_hidden": false
        },
        "pycharm": {
          "name": "#%%\n"
        },
        "id": "rG0wp-PWl05B"
      },
      "outputs": [],
      "source": [
        "uncontrolled = algorithms.UncontrolledCharging()\n",
        "llf = algorithms.SortedSchedulingAlgo(algorithms.least_laxity_first)"
      ]
    },
    {
      "cell_type": "code",
      "execution_count": 23,
      "metadata": {
        "jupyter": {
          "outputs_hidden": false
        },
        "pycharm": {
          "name": "#%%\n"
        },
        "id": "m_cb-wGTl05B"
      },
      "outputs": [],
      "source": [
        "def days_remaining_scale_demand_charge(rates, infrastructure, interface,\n",
        "                                       baseline_peak=0, **kwargs):\n",
        "    day_index = interface.current_time // ((60 / interface.period) * 24)\n",
        "    days_in_month = 30\n",
        "    day_index = min(day_index, days_in_month - 1)\n",
        "    scale = 1 / (days_in_month - day_index)\n",
        "    dc = adacharge.demand_charge(rates, infrastructure, interface, baseline_peak, **kwargs)\n",
        "    return scale * dc"
      ]
    },
    {
      "cell_type": "code",
      "execution_count": 24,
      "metadata": {
        "jupyter": {
          "outputs_hidden": false
        },
        "pycharm": {
          "name": "#%%\n"
        },
        "id": "v1Opfc-Tl05B"
      },
      "outputs": [],
      "source": [
        "cost_min_obj = [adacharge.ObjectiveComponent(adacharge.total_energy, 1000),\n",
        "                adacharge.ObjectiveComponent(adacharge.tou_energy_cost),\n",
        "                adacharge.ObjectiveComponent(days_remaining_scale_demand_charge),\n",
        "                adacharge.ObjectiveComponent(adacharge.quick_charge, 1e-6),\n",
        "                adacharge.ObjectiveComponent(adacharge.equal_share, 1e-12)\n",
        "               ]\n",
        "cost_min = adacharge.AdaptiveSchedulingAlgorithm(cost_min_obj, solver=\"ECOS\", quantize=True, reallocate=True, peak_limit=1000, max_recompute=1)"
      ]
    },
    {
      "cell_type": "markdown",
      "metadata": {
        "id": "6AkX2ohBl05C"
      },
      "source": [
        "**Run Experiments (100 EVs)**"
      ]
    },
    {
      "cell_type": "code",
      "execution_count": 25,
      "metadata": {
        "jupyter": {
          "outputs_hidden": false
        },
        "pycharm": {
          "name": "#%%\n"
        },
        "id": "ycFj1HFrl05C"
      },
      "outputs": [],
      "source": [
        "level1_unctrl_100 = run_experiment(level_1, uncontrolled, deepcopy(sessions_100))"
      ]
    },
    {
      "cell_type": "code",
      "execution_count": null,
      "metadata": {
        "jupyter": {
          "outputs_hidden": false
        },
        "pycharm": {
          "name": "#%%\n"
        },
        "id": "YWPkC-Uvl05C"
      },
      "outputs": [],
      "source": [
        "level2_200kW_untrl_100 = run_experiment(level_2_200kW_30, uncontrolled, deepcopy(sessions_100))"
      ]
    },
    {
      "cell_type": "code",
      "execution_count": null,
      "metadata": {
        "jupyter": {
          "outputs_hidden": false
        },
        "pycharm": {
          "name": "#%%\n"
        },
        "id": "mcdGvkBGl05C"
      },
      "outputs": [],
      "source": [
        "level2_670kW_unctrl_100 = run_experiment(level_2_670kW_102, uncontrolled, deepcopy(sessions_100))"
      ]
    },
    {
      "cell_type": "code",
      "execution_count": null,
      "metadata": {
        "jupyter": {
          "outputs_hidden": false
        },
        "pycharm": {
          "name": "#%%\n"
        },
        "id": "rgk5JMZsl05C"
      },
      "outputs": [],
      "source": [
        "level2_200kW_llf_100 = run_experiment(level_2_200kW_102, llf, deepcopy(sessions_100))"
      ]
    },
    {
      "cell_type": "code",
      "execution_count": null,
      "metadata": {
        "jupyter": {
          "outputs_hidden": false
        },
        "pycharm": {
          "name": "#%%\n"
        },
        "id": "EKeqgq2Pl05C"
      },
      "outputs": [],
      "source": [
        "level2_200kW_cost_min_100 = run_experiment(level_2_200kW_102, cost_min, deepcopy(sessions_100))"
      ]
    },
    {
      "cell_type": "markdown",
      "metadata": {
        "id": "sIpvevRfl05C"
      },
      "source": [
        "**Run Experiments (200 EVs)**"
      ]
    },
    {
      "cell_type": "code",
      "execution_count": null,
      "metadata": {
        "jupyter": {
          "outputs_hidden": false
        },
        "pycharm": {
          "name": "#%%\n"
        },
        "id": "aI21qcEDl05D"
      },
      "outputs": [],
      "source": [
        "level1_unctrl_200 = run_experiment(level_1, uncontrolled, deepcopy(sessions_200))"
      ]
    },
    {
      "cell_type": "code",
      "execution_count": null,
      "metadata": {
        "jupyter": {
          "outputs_hidden": false
        },
        "pycharm": {
          "name": "#%%\n"
        },
        "id": "_F81UkLnl05D"
      },
      "outputs": [],
      "source": [
        "level2_200kW_untrl_200 = run_experiment(level_2_200kW_30, uncontrolled, deepcopy(sessions_200))"
      ]
    },
    {
      "cell_type": "code",
      "execution_count": null,
      "metadata": {
        "jupyter": {
          "outputs_hidden": false
        },
        "pycharm": {
          "name": "#%%\n"
        },
        "id": "-pESYqjgl05D"
      },
      "outputs": [],
      "source": [
        "level2_680kW_unctrl_200 = run_experiment(level_2_680kW_102, uncontrolled, deepcopy(sessions_200))"
      ]
    },
    {
      "cell_type": "code",
      "execution_count": null,
      "metadata": {
        "jupyter": {
          "outputs_hidden": false
        },
        "pycharm": {
          "name": "#%%\n"
        },
        "id": "j77KDo40l05D"
      },
      "outputs": [],
      "source": [
        "level2_200kW_llf_200 = run_experiment(level_2_200kW_102, llf, deepcopy(sessions_200))"
      ]
    },
    {
      "cell_type": "code",
      "execution_count": null,
      "metadata": {
        "jupyter": {
          "outputs_hidden": false
        },
        "pycharm": {
          "name": "#%%\n"
        },
        "id": "MTJVKGVvl05D"
      },
      "outputs": [],
      "source": [
        "level2_200kW_cost_min_200 = run_experiment(level_2_200kW_102, cost_min, deepcopy(sessions_200))"
      ]
    },
    {
      "cell_type": "code",
      "execution_count": null,
      "metadata": {
        "jupyter": {
          "outputs_hidden": false
        },
        "pycharm": {
          "name": "#%%\n"
        },
        "id": "eqa72dAfl05D"
      },
      "outputs": [],
      "source": [
        "level2_200kW_cost_min_201_200 = run_experiment(level_2_200kW_201, cost_min, deepcopy(sessions_200))"
      ]
    },
    {
      "cell_type": "markdown",
      "metadata": {
        "id": "b6j4bPsTl05D"
      },
      "source": [
        "### Analyze Results"
      ]
    },
    {
      "cell_type": "code",
      "execution_count": null,
      "metadata": {
        "jupyter": {
          "outputs_hidden": false
        },
        "pycharm": {
          "name": "#%%\n"
        },
        "id": "o01cPZ9rl05E"
      },
      "outputs": [],
      "source": [
        "evs_100 = pd.DataFrame({\n",
        "    'Level 1: Unctrl: 200 kW : 102 EVSEs': level1_unctrl_100,\n",
        "    'Level 2: Unctrl: 200 kW : 30 EVSEs':  level2_200kW_untrl_100,\n",
        "    'Level 2: Unctrl: 670 kW : 102 EVSEs': level2_670kW_unctrl_100,\n",
        "    'Level 2: LLF: 200 kW : 102 EVSEs': level2_200kW_llf_100,\n",
        "    'Level 2: Min Cost: 200 kW : 102 EVSEs': level2_200kW_cost_min_100\n",
        "})"
      ]
    },
    {
      "cell_type": "code",
      "execution_count": null,
      "metadata": {
        "jupyter": {
          "outputs_hidden": false
        },
        "pycharm": {
          "name": "#%%\n"
        },
        "id": "bKdNSddZl05E"
      },
      "outputs": [],
      "source": [
        "evs_100.to_csv(\"results/100_EV_comparison.csv\")"
      ]
    },
    {
      "cell_type": "code",
      "execution_count": null,
      "metadata": {
        "id": "bd145QgHl05E",
        "outputId": "ed3d13a6-bba6-4352-9b64-7a3776b40635"
      },
      "outputs": [
        {
          "data": {
            "text/html": [
              "<div>\n",
              "<style scoped>\n",
              "    .dataframe tbody tr th:only-of-type {\n",
              "        vertical-align: middle;\n",
              "    }\n",
              "\n",
              "    .dataframe tbody tr th {\n",
              "        vertical-align: top;\n",
              "    }\n",
              "\n",
              "    .dataframe thead th {\n",
              "        text-align: right;\n",
              "    }\n",
              "</style>\n",
              "<table border=\"1\" class=\"dataframe\">\n",
              "  <thead>\n",
              "    <tr style=\"text-align: right;\">\n",
              "      <th></th>\n",
              "      <th>Level 1: Unctrl: 200 kW : 102 EVSEs</th>\n",
              "      <th>Level 2: Unctrl: 200 kW : 30 EVSEs</th>\n",
              "      <th>Level 2: Unctrl: 670 kW : 102 EVSEs</th>\n",
              "      <th>Level 2: LLF: 200 kW : 102 EVSEs</th>\n",
              "      <th>Level 2: Min Cost: 200 kW : 102 EVSEs</th>\n",
              "    </tr>\n",
              "  </thead>\n",
              "  <tbody>\n",
              "    <tr>\n",
              "      <th>proportion_of_energy_delivered</th>\n",
              "      <td>0.751338</td>\n",
              "      <td>0.995425</td>\n",
              "      <td>0.998678</td>\n",
              "      <td>0.997331</td>\n",
              "      <td>0.996131</td>\n",
              "    </tr>\n",
              "    <tr>\n",
              "      <th>energy_delivered</th>\n",
              "      <td>17656.059095</td>\n",
              "      <td>23391.986363</td>\n",
              "      <td>23468.418816</td>\n",
              "      <td>23436.779333</td>\n",
              "      <td>23408.567719</td>\n",
              "    </tr>\n",
              "    <tr>\n",
              "      <th>num_swaps</th>\n",
              "      <td>0.000000</td>\n",
              "      <td>1084.000000</td>\n",
              "      <td>0.000000</td>\n",
              "      <td>0.000000</td>\n",
              "      <td>0.000000</td>\n",
              "    </tr>\n",
              "    <tr>\n",
              "      <th>num_never_charged</th>\n",
              "      <td>0.000000</td>\n",
              "      <td>1.000000</td>\n",
              "      <td>0.000000</td>\n",
              "      <td>0.000000</td>\n",
              "      <td>0.000000</td>\n",
              "    </tr>\n",
              "    <tr>\n",
              "      <th>energy_cost</th>\n",
              "      <td>2636.940621</td>\n",
              "      <td>2905.481249</td>\n",
              "      <td>2799.553116</td>\n",
              "      <td>2915.142030</td>\n",
              "      <td>2834.739398</td>\n",
              "    </tr>\n",
              "    <tr>\n",
              "      <th>demand_charge</th>\n",
              "      <td>2144.102400</td>\n",
              "      <td>3070.980000</td>\n",
              "      <td>5323.032000</td>\n",
              "      <td>3076.811760</td>\n",
              "      <td>2901.486720</td>\n",
              "    </tr>\n",
              "    <tr>\n",
              "      <th>total_cost</th>\n",
              "      <td>4781.043021</td>\n",
              "      <td>5976.461249</td>\n",
              "      <td>8122.585116</td>\n",
              "      <td>5991.953790</td>\n",
              "      <td>5736.226118</td>\n",
              "    </tr>\n",
              "    <tr>\n",
              "      <th>$/kWh</th>\n",
              "      <td>0.270788</td>\n",
              "      <td>0.255492</td>\n",
              "      <td>0.346107</td>\n",
              "      <td>0.255665</td>\n",
              "      <td>0.245048</td>\n",
              "    </tr>\n",
              "  </tbody>\n",
              "</table>\n",
              "</div>"
            ],
            "text/plain": [
              "                                Level 1: Unctrl: 200 kW : 102 EVSEs  \\\n",
              "proportion_of_energy_delivered                             0.751338   \n",
              "energy_delivered                                       17656.059095   \n",
              "num_swaps                                                  0.000000   \n",
              "num_never_charged                                          0.000000   \n",
              "energy_cost                                             2636.940621   \n",
              "demand_charge                                           2144.102400   \n",
              "total_cost                                              4781.043021   \n",
              "$/kWh                                                      0.270788   \n",
              "\n",
              "                                Level 2: Unctrl: 200 kW : 30 EVSEs  \\\n",
              "proportion_of_energy_delivered                            0.995425   \n",
              "energy_delivered                                      23391.986363   \n",
              "num_swaps                                              1084.000000   \n",
              "num_never_charged                                         1.000000   \n",
              "energy_cost                                            2905.481249   \n",
              "demand_charge                                          3070.980000   \n",
              "total_cost                                             5976.461249   \n",
              "$/kWh                                                     0.255492   \n",
              "\n",
              "                                Level 2: Unctrl: 670 kW : 102 EVSEs  \\\n",
              "proportion_of_energy_delivered                             0.998678   \n",
              "energy_delivered                                       23468.418816   \n",
              "num_swaps                                                  0.000000   \n",
              "num_never_charged                                          0.000000   \n",
              "energy_cost                                             2799.553116   \n",
              "demand_charge                                           5323.032000   \n",
              "total_cost                                              8122.585116   \n",
              "$/kWh                                                      0.346107   \n",
              "\n",
              "                                Level 2: LLF: 200 kW : 102 EVSEs  \\\n",
              "proportion_of_energy_delivered                          0.997331   \n",
              "energy_delivered                                    23436.779333   \n",
              "num_swaps                                               0.000000   \n",
              "num_never_charged                                       0.000000   \n",
              "energy_cost                                          2915.142030   \n",
              "demand_charge                                        3076.811760   \n",
              "total_cost                                           5991.953790   \n",
              "$/kWh                                                   0.255665   \n",
              "\n",
              "                                Level 2: Min Cost: 200 kW : 102 EVSEs  \n",
              "proportion_of_energy_delivered                               0.996131  \n",
              "energy_delivered                                         23408.567719  \n",
              "num_swaps                                                    0.000000  \n",
              "num_never_charged                                            0.000000  \n",
              "energy_cost                                               2834.739398  \n",
              "demand_charge                                             2901.486720  \n",
              "total_cost                                                5736.226118  \n",
              "$/kWh                                                        0.245048  "
            ]
          },
          "execution_count": 5,
          "metadata": {},
          "output_type": "execute_result"
        }
      ],
      "source": [
        "pd.read_csv(\"results/100_EV_comparison.csv\", index_col=0)"
      ]
    },
    {
      "cell_type": "code",
      "execution_count": null,
      "metadata": {
        "jupyter": {
          "outputs_hidden": false
        },
        "pycharm": {
          "name": "#%%\n"
        },
        "id": "AJY5Pjahl05G"
      },
      "outputs": [],
      "source": [
        "evs_200 = pd.DataFrame({\n",
        "    'Level 1: Unctrl: 200 kW : 102 EVSEs': level1_unctrl_200,\n",
        "    'Level 2: Unctrl: 200 kW : 30 EVSEs':  level2_200kW_untrl_200,\n",
        "    'Level 2: Unctrl: 680 kW : 102 EVSEs': level2_680kW_unctrl_200,\n",
        "    'Level 2: LLF: 200 kW : 102 EVSEs': level2_200kW_llf_200,\n",
        "    'Level 2: Min Cost: 200 kW : 102 EVSEs': level2_200kW_cost_min_200,\n",
        "    'Level 2: Min Cost: 200 kW : 201 EVSEs': level2_200kW_cost_min_201_200\n",
        "})"
      ]
    },
    {
      "cell_type": "code",
      "execution_count": null,
      "metadata": {
        "jupyter": {
          "outputs_hidden": false
        },
        "pycharm": {
          "name": "#%%\n"
        },
        "id": "2NLGD4oYl05G"
      },
      "outputs": [],
      "source": [
        "evs_200.to_csv(\"results/200_EV_comparison.csv\")"
      ]
    },
    {
      "cell_type": "code",
      "execution_count": null,
      "metadata": {
        "id": "4im5kbINl05H",
        "outputId": "8dafa53b-f443-41ca-ac4e-432b22dcf725"
      },
      "outputs": [
        {
          "data": {
            "text/html": [
              "<div>\n",
              "<style scoped>\n",
              "    .dataframe tbody tr th:only-of-type {\n",
              "        vertical-align: middle;\n",
              "    }\n",
              "\n",
              "    .dataframe tbody tr th {\n",
              "        vertical-align: top;\n",
              "    }\n",
              "\n",
              "    .dataframe thead th {\n",
              "        text-align: right;\n",
              "    }\n",
              "</style>\n",
              "<table border=\"1\" class=\"dataframe\">\n",
              "  <thead>\n",
              "    <tr style=\"text-align: right;\">\n",
              "      <th></th>\n",
              "      <th>Level 1: Unctrl: 200 kW : 102 EVSEs</th>\n",
              "      <th>Level 2: Unctrl: 200 kW : 30 EVSEs</th>\n",
              "      <th>Level 2: Unctrl: 670 kW : 102 EVSEs</th>\n",
              "      <th>Level 2: LLF: 200 kW : 102 EVSEs</th>\n",
              "      <th>Level 2: Min Cost: 200 kW : 102 EVSEs</th>\n",
              "      <th>Level 2: Min Cost: 200 kW : 201 EVSEs</th>\n",
              "    </tr>\n",
              "  </thead>\n",
              "  <tbody>\n",
              "    <tr>\n",
              "      <th>proportion_of_energy_delivered</th>\n",
              "      <td>0.736772</td>\n",
              "      <td>0.915827</td>\n",
              "      <td>0.998560</td>\n",
              "      <td>0.880725</td>\n",
              "      <td>0.871940</td>\n",
              "      <td>0.987986</td>\n",
              "    </tr>\n",
              "    <tr>\n",
              "      <th>energy_delivered</th>\n",
              "      <td>34076.724373</td>\n",
              "      <td>42358.244240</td>\n",
              "      <td>46184.774552</td>\n",
              "      <td>40734.744667</td>\n",
              "      <td>40328.397983</td>\n",
              "      <td>45695.696905</td>\n",
              "    </tr>\n",
              "    <tr>\n",
              "      <th>num_swaps</th>\n",
              "      <td>1195.000000</td>\n",
              "      <td>2971.000000</td>\n",
              "      <td>1095.000000</td>\n",
              "      <td>1443.000000</td>\n",
              "      <td>1425.000000</td>\n",
              "      <td>0.000000</td>\n",
              "    </tr>\n",
              "    <tr>\n",
              "      <th>num_never_charged</th>\n",
              "      <td>19.000000</td>\n",
              "      <td>183.000000</td>\n",
              "      <td>0.000000</td>\n",
              "      <td>309.000000</td>\n",
              "      <td>332.000000</td>\n",
              "      <td>0.000000</td>\n",
              "    </tr>\n",
              "    <tr>\n",
              "      <th>energy_cost</th>\n",
              "      <td>5298.150273</td>\n",
              "      <td>6797.589344</td>\n",
              "      <td>5464.878676</td>\n",
              "      <td>6626.676764</td>\n",
              "      <td>6019.390036</td>\n",
              "      <td>7239.775793</td>\n",
              "    </tr>\n",
              "    <tr>\n",
              "      <th>demand_charge</th>\n",
              "      <td>3037.478400</td>\n",
              "      <td>3070.980000</td>\n",
              "      <td>9661.213390</td>\n",
              "      <td>3077.680320</td>\n",
              "      <td>3098.525760</td>\n",
              "      <td>3100.262880</td>\n",
              "    </tr>\n",
              "    <tr>\n",
              "      <th>total_cost</th>\n",
              "      <td>8335.628673</td>\n",
              "      <td>9868.569344</td>\n",
              "      <td>15126.092066</td>\n",
              "      <td>9704.357084</td>\n",
              "      <td>9117.915796</td>\n",
              "      <td>10340.038673</td>\n",
              "    </tr>\n",
              "    <tr>\n",
              "      <th>$/kWh</th>\n",
              "      <td>0.244614</td>\n",
              "      <td>0.232979</td>\n",
              "      <td>0.327513</td>\n",
              "      <td>0.238233</td>\n",
              "      <td>0.226092</td>\n",
              "      <td>0.226280</td>\n",
              "    </tr>\n",
              "  </tbody>\n",
              "</table>\n",
              "</div>"
            ],
            "text/plain": [
              "                                Level 1: Unctrl: 200 kW : 102 EVSEs  \\\n",
              "proportion_of_energy_delivered                             0.736772   \n",
              "energy_delivered                                       34076.724373   \n",
              "num_swaps                                               1195.000000   \n",
              "num_never_charged                                         19.000000   \n",
              "energy_cost                                             5298.150273   \n",
              "demand_charge                                           3037.478400   \n",
              "total_cost                                              8335.628673   \n",
              "$/kWh                                                      0.244614   \n",
              "\n",
              "                                Level 2: Unctrl: 200 kW : 30 EVSEs  \\\n",
              "proportion_of_energy_delivered                            0.915827   \n",
              "energy_delivered                                      42358.244240   \n",
              "num_swaps                                              2971.000000   \n",
              "num_never_charged                                       183.000000   \n",
              "energy_cost                                            6797.589344   \n",
              "demand_charge                                          3070.980000   \n",
              "total_cost                                             9868.569344   \n",
              "$/kWh                                                     0.232979   \n",
              "\n",
              "                                Level 2: Unctrl: 670 kW : 102 EVSEs  \\\n",
              "proportion_of_energy_delivered                             0.998560   \n",
              "energy_delivered                                       46184.774552   \n",
              "num_swaps                                               1095.000000   \n",
              "num_never_charged                                          0.000000   \n",
              "energy_cost                                             5464.878676   \n",
              "demand_charge                                           9661.213390   \n",
              "total_cost                                             15126.092066   \n",
              "$/kWh                                                      0.327513   \n",
              "\n",
              "                                Level 2: LLF: 200 kW : 102 EVSEs  \\\n",
              "proportion_of_energy_delivered                          0.880725   \n",
              "energy_delivered                                    40734.744667   \n",
              "num_swaps                                            1443.000000   \n",
              "num_never_charged                                     309.000000   \n",
              "energy_cost                                          6626.676764   \n",
              "demand_charge                                        3077.680320   \n",
              "total_cost                                           9704.357084   \n",
              "$/kWh                                                   0.238233   \n",
              "\n",
              "                                Level 2: Min Cost: 200 kW : 102 EVSEs  \\\n",
              "proportion_of_energy_delivered                               0.871940   \n",
              "energy_delivered                                         40328.397983   \n",
              "num_swaps                                                 1425.000000   \n",
              "num_never_charged                                          332.000000   \n",
              "energy_cost                                               6019.390036   \n",
              "demand_charge                                             3098.525760   \n",
              "total_cost                                                9117.915796   \n",
              "$/kWh                                                        0.226092   \n",
              "\n",
              "                                Level 2: Min Cost: 200 kW : 201 EVSEs  \n",
              "proportion_of_energy_delivered                               0.987986  \n",
              "energy_delivered                                         45695.696905  \n",
              "num_swaps                                                    0.000000  \n",
              "num_never_charged                                            0.000000  \n",
              "energy_cost                                               7239.775793  \n",
              "demand_charge                                             3100.262880  \n",
              "total_cost                                               10340.038673  \n",
              "$/kWh                                                        0.226280  "
            ]
          },
          "execution_count": 6,
          "metadata": {},
          "output_type": "execute_result"
        }
      ],
      "source": [
        "pd.read_csv(\"results/200_EV_comparison.csv\", index_col=0)"
      ]
    },
    {
      "cell_type": "markdown",
      "metadata": {
        "id": "GT3Gdx9El05H"
      },
      "source": [
        "From the above table we can see that smart charging using even a simple LLF algorithm has significant benefits over Uncontrolled Level-1 charging in terms of amount of demand met. It also requires far less infrastructure than Uncontrolled Level-2 charging with the same number of EVSEs, and without requiring users to swap spaces mid-day.\n"
      ]
    }
  ],
  "metadata": {
    "kernelspec": {
      "display_name": "Python 3",
      "language": "python",
      "name": "python3"
    },
    "language_info": {
      "codemirror_mode": {
        "name": "ipython",
        "version": 3
      },
      "file_extension": ".py",
      "mimetype": "text/x-python",
      "name": "python",
      "nbconvert_exporter": "python",
      "pygments_lexer": "ipython3",
      "version": "3.8.1"
    },
    "colab": {
      "provenance": []
    }
  },
  "nbformat": 4,
  "nbformat_minor": 0
}